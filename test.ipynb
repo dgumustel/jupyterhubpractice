{
 "cells": [
  {
   "cell_type": "code",
   "execution_count": 1,
   "id": "6aba6248-2667-430e-98be-d882e90dc5f6",
   "metadata": {},
   "outputs": [
    {
     "name": "stdout",
     "output_type": "stream",
     "text": [
      "hello world\n"
     ]
    }
   ],
   "source": [
    "print('hello world')"
   ]
  },
  {
   "cell_type": "code",
   "execution_count": 2,
   "id": "4b233391-55df-41d9-b843-29cb031538b6",
   "metadata": {},
   "outputs": [
    {
     "name": "stdout",
     "output_type": "stream",
     "text": [
      "goodbye world\n"
     ]
    }
   ],
   "source": [
    "print('goodbye world')"
   ]
  },
  {
   "cell_type": "code",
   "execution_count": null,
   "id": "4a87c3a5-ae63-468d-ae46-1d367c9d401a",
   "metadata": {},
   "outputs": [],
   "source": []
  }
 ],
 "metadata": {
  "kernelspec": {
   "display_name": "Python 3 (ipykernel)",
   "language": "python",
   "name": "python3"
  },
  "language_info": {
   "codemirror_mode": {
    "name": "ipython",
    "version": 3
   },
   "file_extension": ".py",
   "mimetype": "text/x-python",
   "name": "python",
   "nbconvert_exporter": "python",
   "pygments_lexer": "ipython3",
   "version": "3.12.4"
  }
 },
 "nbformat": 4,
 "nbformat_minor": 5
}
